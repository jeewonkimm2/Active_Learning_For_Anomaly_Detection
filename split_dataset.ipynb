{
 "cells": [
  {
   "cell_type": "code",
   "execution_count": 2,
   "metadata": {},
   "outputs": [
    {
     "name": "stdout",
     "output_type": "stream",
     "text": [
      "Train size( normal ):  2988\n",
      "Test size( normal ):  747\n",
      "Train size( anomaly ):  1006\n",
      "Test size( anomaly ):  251\n"
     ]
    }
   ],
   "source": [
    "# Split Dataset\n",
    "\n",
    "import os\n",
    "import shutil\n",
    "\n",
    "original_dataset_dir = '/home/iai/Desktop/Jeewon/Study/Conference/Active_Learning/data/twoclasses'\n",
    "classes_list = os.listdir(original_dataset_dir)\n",
    "\n",
    "base_dir = '/home/iai/Desktop/Jeewon/Study/Conference/Active_Learning/data/splitted_two'\n",
    "os.mkdir(base_dir)\n",
    "\n",
    "train_dir = os.path.join(base_dir, 'train')\n",
    "os.mkdir(train_dir)\n",
    "test_dir = os.path.join(base_dir, 'test')\n",
    "os.mkdir(test_dir)\n",
    "\n",
    "# train,validation,test 폴더 하위에 각각 클래스 목록 폴더 생성\n",
    "for clss in classes_list:\n",
    "    os.mkdir(os.path.join(train_dir,clss))\n",
    "    os.mkdir(os.path.join(test_dir,clss))\n",
    "    \n",
    "\n",
    "# [데이터 분할과 클래스별 데이터 수 확인]\n",
    "import math\n",
    "\n",
    "for clss in classes_list:\n",
    "    path = os.path.join(original_dataset_dir,clss)\n",
    "    fnames = os.listdir(path)\n",
    "    \n",
    "    train_size = math.floor(len(fnames)*0.8)\n",
    "    test_size = math.floor(len(fnames)*0.2)\n",
    "    \n",
    "    train_fnames = fnames[:train_size]\n",
    "    print('Train size(',clss,'): ', len(train_fnames))\n",
    "    for fname in train_fnames:\n",
    "        src = os.path.join(path, fname)\n",
    "        dst = os.path.join(os.path.join(train_dir, clss), fname)\n",
    "        shutil.copyfile(src,dst)\n",
    "        \n",
    "    test_fnames = fnames[train_size:(train_size+test_size)]\n",
    "    print('Test size(',clss,'): ', len(test_fnames))\n",
    "    for fname in test_fnames:\n",
    "        src = os.path.join(path, fname)\n",
    "        dst = os.path.join(os.path.join(test_dir, clss),fname)\n",
    "        shutil.copyfile(src,dst)"
   ]
  }
 ],
 "metadata": {
  "kernelspec": {
   "display_name": "jwanaconda",
   "language": "python",
   "name": "python3"
  },
  "language_info": {
   "codemirror_mode": {
    "name": "ipython",
    "version": 3
   },
   "file_extension": ".py",
   "mimetype": "text/x-python",
   "name": "python",
   "nbconvert_exporter": "python",
   "pygments_lexer": "ipython3",
   "version": "3.8.13"
  },
  "orig_nbformat": 4,
  "vscode": {
   "interpreter": {
    "hash": "91b1005dccb15e22d240b273f9fc181733100900e693183dab09dcac13af140a"
   }
  }
 },
 "nbformat": 4,
 "nbformat_minor": 2
}
